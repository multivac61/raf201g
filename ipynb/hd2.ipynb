{
 "cells": [
  {
   "cell_type": "markdown",
   "metadata": {
    "collapsed": true,
    "pycharm": {
     "name": "#%% md\n"
    }
   },
   "source": [
    "<div style=\"text-align:right\"><i>Ólafur Bjarki Bogason<br>MIT License<br>2021</i></div>\n",
    "\n",
    "# Heimadæmi 2"
   ]
  },
  {
   "cell_type": "code",
   "execution_count": 99,
   "metadata": {
    "pycharm": {
     "name": "#%%\n"
    }
   },
   "outputs": [],
   "source": [
    "from sympy import symbols, Matrix, nsimplify, solve, Eq, init_printing\n",
    "\n",
    "init_printing(use_latex=True)"
   ]
  },
  {
   "cell_type": "markdown",
   "metadata": {
    "pycharm": {
     "name": "#%% md\n"
    }
   },
   "source": [
    "![](img/hd2_1.png)"
   ]
  },
  {
   "cell_type": "markdown",
   "metadata": {},
   "source": [
    "Í heimadæmi 1 fundum við jöfnu fyrir $N$-hliðtengd viðnám"
   ]
  },
  {
   "cell_type": "code",
   "execution_count": 100,
   "metadata": {
    "pycharm": {
     "name": "#%%\n"
    }
   },
   "outputs": [
    {
     "data": {
      "text/latex": [
       "$\\displaystyle \\frac{5}{3}$"
      ],
      "text/plain": [
       "5/3"
      ]
     },
     "execution_count": 100,
     "metadata": {},
     "output_type": "execute_result"
    }
   ],
   "source": [
    "def parallel(*rs):\n",
    "    return nsimplify(1 / sum(1 / r for r in rs))\n",
    "\n",
    "\n",
    "parallel(10, 2)"
   ]
  },
  {
   "cell_type": "markdown",
   "metadata": {},
   "source": [
    "Sömuleiðis vitum við að $R_1 = 3 R_2$, og $R_1 \\mathbin{\\|} R_2 = 10k\\Omega$.\n",
    "\n",
    "Nú höfum við tvær jöfnur, og tvær óþekktar sem við getum leyst með [`sympy.solve`](https://docs.sympy.org/latest/modules/solvers/solvers.html#sympy.solvers.solvers.solve) og [`Eq`](https://docs.sympy.org/latest/modules/core.html?highlight=eq#sympy.core.relational.Equality) sem skilgreinir jöfnu."
   ]
  },
  {
   "cell_type": "code",
   "execution_count": 110,
   "metadata": {
    "pycharm": {
     "name": "#%%\n"
    }
   },
   "outputs": [
    {
     "data": {
      "text/latex": [
       "$\\displaystyle \\left[ \\left\\{ R_{1} : 40000, \\  R_{2} : \\frac{40000}{3}\\right\\}\\right]$"
      ],
      "text/plain": [
       "[{R₁: 40000, R₂: 40000/3}]"
      ]
     },
     "execution_count": 110,
     "metadata": {},
     "output_type": "execute_result"
    }
   ],
   "source": [
    "hlutfall, r_eq = 3, 10e3\n",
    "\n",
    "r1, r2 = symbols('R1 R2')\n",
    "\n",
    "eqn1 = Eq(r1, hlutfall * r2)\n",
    "eqn2 = Eq(parallel(r1, r2), r_eq)\n",
    "\n",
    "solve((eqn1, eqn2), r1, r2, dict=True, rational=True)"
   ]
  },
  {
   "cell_type": "markdown",
   "metadata": {},
   "source": [
    "![Dæmi 2](img/hd2_2.png)\n",
    "\n",
    "Munum að $G = 1/R$, og að við þurfum $N_{jöfnur} = N_{hnútpunktar} + N_{spennulindir} - 1 = 5 + 2 -1 = 6$. \n",
    "\n",
    "Setjum nú upp jöfnurnar og leysum með [`sympy.solve`](https://docs.sympy.org/latest/modules/solvers/solvers.html#sympy.solvers.solvers.solve)."
   ]
  },
  {
   "cell_type": "code",
   "execution_count": 102,
   "metadata": {},
   "outputs": [
    {
     "data": {
      "text/latex": [
       "$\\displaystyle \\left\\{ jv_{1} : - \\frac{19}{128}, \\  jv_{2} : - \\frac{17}{128}, \\  va : 2, \\  vb : \\frac{45}{32}, \\  vc : 3, \\  vd : \\frac{27}{32}\\right\\}$"
      ],
      "text/plain": [
       "⎧     -19        -17              45             27⎫\n",
       "⎨jv₁: ────, jv₂: ────, va: 2, vb: ──, vc: 3, vd: ──⎬\n",
       "⎩     128        128              32             32⎭"
      ]
     },
     "execution_count": 102,
     "metadata": {},
     "output_type": "execute_result"
    }
   ],
   "source": [
    "g1, g2, g3, g4, v1, v2 = 1 / 4, 1 / 12, 1 / 2, 1 / 3, 2, 3\n",
    "\n",
    "va, vb, vc, vd, jv1, jv2 = symbols('va vb vc vd jv1 jv2')\n",
    "\n",
    "kcl_a = Eq(jv1 + (va - vb) * g1, 0)\n",
    "kcl_b = Eq((vb - va) * g1 + (vb - vc) * g2 + (vb - vd) * g3, 0)\n",
    "kcl_c = Eq((vc - vb) * g2 + jv2, 0)\n",
    "kcl_d = Eq((vd - vb) * g3 + (vd - 0) * g4, 0)\n",
    "\n",
    "kvl_v1 = Eq(va - 0, v1)\n",
    "kvl_v2 = Eq(vc - 0, v2)\n",
    "\n",
    "solve((kcl_a, kcl_b, kcl_c, kcl_d, kvl_v1, kvl_v2), va, vb, vc, vd, jv1, jv2, rational=True)"
   ]
  },
  {
   "cell_type": "markdown",
   "metadata": {},
   "source": [
    "Hér er sama dæmi leyst með **MNA**."
   ]
  },
  {
   "cell_type": "code",
   "execution_count": 103,
   "metadata": {
    "pycharm": {
     "name": "#%%\n"
    }
   },
   "outputs": [
    {
     "data": {
      "text/latex": [
       "$\\displaystyle \\left[\\begin{matrix}2\\\\\\frac{45}{32}\\\\3\\\\\\frac{27}{32}\\\\- \\frac{19}{128}\\\\- \\frac{17}{128}\\end{matrix}\\right]$"
      ],
      "text/plain": [
       "⎡ 2  ⎤\n",
       "⎢    ⎥\n",
       "⎢ 45 ⎥\n",
       "⎢ ── ⎥\n",
       "⎢ 32 ⎥\n",
       "⎢    ⎥\n",
       "⎢ 3  ⎥\n",
       "⎢    ⎥\n",
       "⎢ 27 ⎥\n",
       "⎢ ── ⎥\n",
       "⎢ 32 ⎥\n",
       "⎢    ⎥\n",
       "⎢-19 ⎥\n",
       "⎢────⎥\n",
       "⎢128 ⎥\n",
       "⎢    ⎥\n",
       "⎢-17 ⎥\n",
       "⎢────⎥\n",
       "⎣128 ⎦"
      ]
     },
     "execution_count": 103,
     "metadata": {},
     "output_type": "execute_result"
    }
   ],
   "source": [
    "g1, g2, g3, g4 = map(nsimplify, (g1, g2, g3, g4))  # Setjum sem ræðar tölur\n",
    "\n",
    "a = Matrix([\n",
    "    [g1, -g1, 0, 0, 1, 0],  # KCL í a\n",
    "    [-g1, g1 + g2 + g3, -g2, -g3, 0, 0],  # KCL í b\n",
    "    [0, -g2, g2, 0, 0, 1],  # KCL í c\n",
    "    [0, -g3, 0, g3 + g4, 0, 0],  # KCL í d\n",
    "    [1, 0, 0, 0, 0, 0],  # KVL yfir v1\n",
    "    [0, 0, 1, 0, 0, 0],  # KVL yfir v2\n",
    "])\n",
    "\n",
    "b = Matrix([[0, 0, 0, 0, v1, v2]]).T\n",
    "\n",
    "a.LUsolve(b)"
   ]
  },
  {
   "cell_type": "markdown",
   "metadata": {},
   "source": [
    "![Rás fyrir dæmi 3](img/hd2_3.png)\n",
    "\n",
    "Tökum eftir því að $V = v_a - 0$\n"
   ]
  },
  {
   "cell_type": "code",
   "execution_count": 104,
   "metadata": {},
   "outputs": [
    {
     "data": {
      "text/latex": [
       "$\\displaystyle \\left\\{ jv : -11, \\  v : 300, \\  va : 300, \\  vb : 80, \\  vc : 50\\right\\}$"
      ],
      "text/plain": [
       "{jv: -11, v: 300, va: 300, vb: 80, vc: 50}"
      ]
     },
     "execution_count": 104,
     "metadata": {},
     "output_type": "execute_result"
    }
   ],
   "source": [
    "g1, g2, g3, g4, g5, g6, i6 = 1 / 20, 1 / 16, 1 / 5, 1 / 10, 1 / 30, 1 / 20, 1\n",
    "\n",
    "v, va, vb, vc, jv = symbols('v va vb vc jv')\n",
    "\n",
    "vd = i6 / g6  # Lögmál Ohm\n",
    "\n",
    "kcl_a = Eq(jv + (va - vb) * g1, 0)\n",
    "kcl_b = Eq((vb - va) * g1 + (vb - 0) * g2 + (vb - vc) * g3, 0)\n",
    "kcl_c = Eq((vc - vb) * g3 + (vc - 0) * g4 + (vc - vd) * g5, 0)\n",
    "kcl_d = Eq((vd - vc) * g5 + (vd - 0) * g6, 0)\n",
    "\n",
    "kvl_v1 = Eq(va - 0, v)\n",
    "\n",
    "solve((kcl_a, kcl_b, kcl_c, kcl_d, kvl_v1), v, va, vb, vc, jv, rational=True)"
   ]
  },
  {
   "cell_type": "markdown",
   "metadata": {},
   "source": [
    "![Dæmi 4](img/hd2_4.png)"
   ]
  },
  {
   "cell_type": "code",
   "execution_count": 105,
   "metadata": {
    "pycharm": {
     "name": "#%%\n"
    }
   },
   "outputs": [
    {
     "data": {
      "text/latex": [
       "$\\displaystyle \\left[\\begin{matrix}\\frac{1791}{1834}\\\\\\frac{1936}{917}\\\\\\frac{2563}{1834}\\\\\\frac{4125}{1834}\\\\\\frac{475}{262}\\end{matrix}\\right]$"
      ],
      "text/plain": [
       "⎡1791⎤\n",
       "⎢────⎥\n",
       "⎢1834⎥\n",
       "⎢    ⎥\n",
       "⎢1936⎥\n",
       "⎢────⎥\n",
       "⎢917 ⎥\n",
       "⎢    ⎥\n",
       "⎢2563⎥\n",
       "⎢────⎥\n",
       "⎢1834⎥\n",
       "⎢    ⎥\n",
       "⎢4125⎥\n",
       "⎢────⎥\n",
       "⎢1834⎥\n",
       "⎢    ⎥\n",
       "⎢475 ⎥\n",
       "⎢─── ⎥\n",
       "⎣262 ⎦"
      ]
     },
     "execution_count": 105,
     "metadata": {},
     "output_type": "execute_result"
    }
   ],
   "source": [
    "i1, i2, i3, i4, i5 = 3, -1, -2, 4, 2\n",
    "g1, g2, g3, g4, g5, g6, g7, g8, g9, g10 = 1, 2, 1, 3, 2, 1, 1, 3, 2, 2\n",
    "\n",
    "a = Matrix([\n",
    "    [g1 + g2 + g3, -g3, -g2, 0, 0],  # KCL í a (ekki i2, er í b vigri)\n",
    "    [-g3, g3 + g4 + g5, -g4, -g5, 0],  # KCL í b (ekki i1, er í b vigri)\n",
    "    [-g2, -g4, g2 + g4 + g6 + g7 + g8, -g7, -g8],  # KCL í c (ekki i3, er í b vigri)\n",
    "    [0, -g5, -g7, g5 + g7 + g9, -g9],  # KCL í d (ekki i5, er í b vigri)\n",
    "    [0, 0, -g8, -g9, g8 + g9 + g10],  # KCL í e (ekki i4, er í b vigri)\n",
    "])\n",
    "\n",
    "b = Matrix([[i2, i1, i3, i5, i4]]).T\n",
    "\n",
    "a.LUsolve(b)"
   ]
  },
  {
   "cell_type": "markdown",
   "metadata": {},
   "source": [
    "![Dæmi 4](img/rasir/hd2_4_vs.png)\n",
    "\n",
    "Þetta dæmi var ekki á heimadæmum, hér eru spennulindir í stað straumlinda"
   ]
  },
  {
   "cell_type": "code",
   "execution_count": 106,
   "metadata": {
    "pycharm": {
     "name": "#%%\n"
    }
   },
   "outputs": [
    {
     "name": "stdout",
     "output_type": "stream",
     "text": [
      "va: -1 V, vb: 3 V, vc: -2 V, vd: 2 V, ve: 4 V\n"
     ]
    }
   ],
   "source": [
    "v1, v2, v3, v4, v5 = 3, -1, -2, 4, 2\n",
    "g1, g2, g3, g4, g5, g6, g7, g8, g9, g10 = 1, 2, 1, 3, 2, 1, 1, 3, 2, 2\n",
    "\n",
    "A = Matrix([\n",
    "    [g1 + g2 + g3, -g3, -g2, 0, 0, 0, 1, 0, 0, 0],\n",
    "    [-g3, g3 + g4 + g5, -g4, -g5, 0, 1, 0, 0, 0, 0],\n",
    "    [-g2, -g4, g2 + g4 + g6 + g7 + g8, -g7, -g8, 0, 0, 1, 0, 0],\n",
    "    [0, -g5, -g7, g5 + g7 + g9, -g9, 0, 0, 0, 0, 1],\n",
    "    [0, 0, -g8, -g9, g8 + g9 + g10, 0, 0, 0, 1, 0],\n",
    "    [0, 1, 0, 0, 0, 0, 0, 0, 0, 0],\n",
    "    [1, 0, 0, 0, 0, 0, 0, 0, 0, 0],\n",
    "    [0, 0, 1, 0, 0, 0, 0, 0, 0, 0],\n",
    "    [0, 0, 0, 0, 1, 0, 0, 0, 0, 0],\n",
    "    [0, 0, 0, 1, 0, 0, 0, 0, 0, 0],\n",
    "])\n",
    "\n",
    "b = Matrix([[0, 0, 0, 0, 0, v1, v2, v3, v4, v5]]).T\n",
    "\n",
    "va, vb, vc, vd, ve, *_ = A.LUsolve(b)\n",
    "print(f'va: {va} V, vb: {vb} V, vc: {vc} V, vd: {vd} V, ve: {ve} V')"
   ]
  },
  {
   "cell_type": "markdown",
   "metadata": {},
   "source": [
    "![Dæmi 5](img/hd2_5.png)"
   ]
  },
  {
   "cell_type": "code",
   "execution_count": 107,
   "metadata": {
    "pycharm": {
     "name": "#%%\n"
    }
   },
   "outputs": [
    {
     "data": {
      "text/plain": [
       "{'va': 1, 'vb': 3/4, 'vc': 3/4, 'vd': 1/2, 'jv': -1/2, 'i4': 1/4}"
      ]
     },
     "execution_count": 107,
     "metadata": {},
     "output_type": "execute_result"
    }
   ],
   "source": [
    "def hd2_5(v, g1, g2, g3, g4, g5, g6):\n",
    "    g1, g2, g3, g4, g5, g6 = map(nsimplify, (g1, g2, g3, g4, g5, g6))  # Setjum sem ræðar tölur\n",
    "    a = Matrix([\n",
    "        [g1 + g2, -g1, -g2, 0, 1],  # KCL í a\n",
    "        [-g1, g1 + g3 + g5, -g3, -g5, 0],  # KCL í b\n",
    "        [-g2, -g3, g2 + g3 + g4, -g4, 0],  # KCL í c\n",
    "        [0, -g5, -g4, g4 + g5 + g6, 0],  # KCL í d\n",
    "        [1, 0, 0, 0, 0],  # Tengjum spennu yfir v1 við hnútpunkta\n",
    "    ])\n",
    "\n",
    "    b = Matrix([[0, 0, 0, 0, v]]).T  # Engin óháð straumlind svo fyrstu fjögur stökin eru núll.\n",
    "\n",
    "    va, vb, vc, vd, jv = a.LUsolve(b)\n",
    "    i4 = (vc - vd) * g4\n",
    "    return {'va': va, 'vb': vb, 'vc': vc, 'vd': vd, 'jv': jv, 'i4': i4}\n",
    "\n",
    "\n",
    "hd2_5(1, 1, 1, 1, 1, 1, 1)"
   ]
  },
  {
   "cell_type": "markdown",
   "metadata": {},
   "source": [
    "![Dæmi 5](img/hd2_5_auka.png)"
   ]
  },
  {
   "cell_type": "code",
   "execution_count": 108,
   "metadata": {
    "pycharm": {
     "name": "#%%\n"
    }
   },
   "outputs": [
    {
     "data": {
      "text/plain": [
       "{'va': 1, 'vb': 44/47, 'vc': 85/94, 'vd': 63/94, 'jv': -21/188, 'i4': 11/188}"
      ]
     },
     "execution_count": 108,
     "metadata": {},
     "output_type": "execute_result"
    }
   ],
   "source": [
    "hd2_5(1, 1, 1 / 2, 1 / 3, 1 / 4, 1 / 5, 1 / 6)"
   ]
  }
 ],
 "metadata": {
  "kernelspec": {
   "display_name": "Python 3",
   "language": "python",
   "name": "python3"
  },
  "language_info": {
   "codemirror_mode": {
    "name": "ipython",
    "version": 3
   },
   "file_extension": ".py",
   "mimetype": "text/x-python",
   "name": "python",
   "nbconvert_exporter": "python",
   "pygments_lexer": "ipython3",
   "version": "3.9.2"
  }
 },
 "nbformat": 4,
 "nbformat_minor": 1
}