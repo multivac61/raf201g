{
 "cells": [
  {
   "cell_type": "markdown",
   "source": [
    "<div align=\"right\" style=\"text-align:right\"><i>Ólafur Bjarki Bogason<br>MIT License<br>2021</i></div>\n",
    "\n",
    "# Heimadæmi 5 leyst með Sympy\n",
    "\n",
    "Sjá skilgreiningu á hnútpunktum og almenna lausn á Canvas."
   ],
   "metadata": {
    "collapsed": false
   }
  },
  {
   "cell_type": "code",
   "execution_count": 5,
   "outputs": [],
   "source": [
    "from sympy import Matrix"
   ],
   "metadata": {
    "collapsed": false,
    "pycharm": {
     "name": "#%%\n"
    }
   }
  },
  {
   "cell_type": "markdown",
   "source": [
    "# Dæmi 1 - Óháð lind og viðnám\n",
    "\n",
    "![Rás fyrir dæmi 1](img/hd5_1.png)\n"
   ],
   "metadata": {
    "collapsed": false
   }
  },
  {
   "cell_type": "code",
   "execution_count": 6,
   "outputs": [],
   "source": [
    "v1, g1, g2, g3, g4, g5 = 9, 1/7, 1/3, 1/1, 1/1, 1/3\n",
    "va, vb, vc, jv = Matrix([\n",
    "    [g1+g2, -g1, -g2, 1],\n",
    "    [-g1, g1+g3+g4, -g3, 0],\n",
    "    [-g2, -g3, g2+g3+g5, 0],\n",
    "    [1, 0, 0, 0],\n",
    "]).LUsolve(Matrix([[0, 0, 0, v1]]).T)"
   ],
   "metadata": {
    "collapsed": false,
    "pycharm": {
     "name": "#%%\n"
    }
   }
  },
  {
   "cell_type": "markdown",
   "source": [
    "# Dæmi 2 - Bland í poka\n",
    "\n",
    "![Rás fyrir dæmi 2](img/hd5_2.png)\n",
    "\n",
    "Sjá lausn á Canvas\n",
    "\n",
    "### Aðferð 1\n",
    "Leyst þegar spennulind raðteng við viðnám R2 er tekin sem ein rásaeining"
   ],
   "metadata": {
    "collapsed": false
   }
  },
  {
   "cell_type": "code",
   "execution_count": 3,
   "outputs": [
    {
     "data": {
      "text/plain": "Matrix([\n[20.0],\n[16.0],\n[ 4.0],\n[ 1.0]])",
      "text/latex": "$\\displaystyle \\left[\\begin{matrix}20.0\\\\16.0\\\\4.0\\\\1.0\\end{matrix}\\right]$"
     },
     "execution_count": 3,
     "metadata": {},
     "output_type": "execute_result"
    }
   ],
   "source": [
    "v1, i1, mu, g1, g2, g3, g4 = 9, 2, 2, 1/4, 1/7, 1/4, 1/1\n",
    "Matrix([\n",
    "    [g1, -g1, 0, 1-mu],\n",
    "    [-g1, g1+g3, -g3, 0],\n",
    "    [0, -g3, g3+g4, -1],\n",
    "    [1, 0, -1, -1/g2],\n",
    "]).LUsolve(Matrix([[0, i1, 0, v1]]).T)"
   ],
   "metadata": {
    "collapsed": false,
    "pycharm": {
     "name": "#%%\n"
    }
   }
  },
  {
   "cell_type": "markdown",
   "source": [
    "### Aðferð 2\n",
    "\n",
    "Leyst með 5 hnútpunktum"
   ],
   "metadata": {
    "collapsed": false
   }
  },
  {
   "cell_type": "code",
   "execution_count": 4,
   "outputs": [
    {
     "data": {
      "text/plain": "Matrix([\n[20.0],\n[16.0],\n[ 4.0],\n[11.0],\n[ 1.0]])",
      "text/latex": "$\\displaystyle \\left[\\begin{matrix}20.0\\\\16.0\\\\4.0\\\\11.0\\\\1.0\\end{matrix}\\right]$"
     },
     "execution_count": 4,
     "metadata": {},
     "output_type": "execute_result"
    }
   ],
   "source": [
    "Matrix([\n",
    "    [g1, -g1, 0, 0, 1-mu],\n",
    "    [-g1, g1+g3, -g3, 0,  0],\n",
    "    [0, -g3, g2+g3+g4, -g2, 0],\n",
    "    [0, 0, -g2, g2, -1],\n",
    "    [1, 0, 0, -1, 0],\n",
    "]).LUsolve(Matrix([[0, i1, 0, 0, v1]]).T)\n"
   ],
   "metadata": {
    "collapsed": false,
    "pycharm": {
     "name": "#%%\n"
    }
   }
  }
 ],
 "metadata": {
  "kernelspec": {
   "display_name": "Python 3",
   "language": "python",
   "name": "python3"
  },
  "language_info": {
   "codemirror_mode": {
    "name": "ipython",
    "version": 3
   },
   "file_extension": ".py",
   "mimetype": "text/x-python",
   "name": "python",
   "nbconvert_exporter": "python",
   "pygments_lexer": "ipython3",
   "version": "3.8.2"
  }
 },
 "nbformat": 4,
 "nbformat_minor": 1
}