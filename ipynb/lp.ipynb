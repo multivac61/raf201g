{
 "cells": [
  {
   "cell_type": "markdown",
   "metadata": {
    "collapsed": true,
    "pycharm": {
     "name": "#%% md\n"
    }
   },
   "source": [
    "<div style=\"text-align:right\"><i>Ólafur Bjarki Bogason<br>MIT License<br>2021</i></div>\n",
    "\n",
    "# Lokapróf"
   ]
  },
  {
   "cell_type": "code",
   "execution_count": 69,
   "metadata": {
    "pycharm": {
     "name": "#%%\n"
    }
   },
   "outputs": [],
   "source": [
    "from sympy import symbols, Matrix, nsimplify, simplify, solve, Eq, init_printing, diff, I, exp, cos, sin, re, collect, sign, sqrt, atan2, Function, dsolve\n",
    "from math import radians, degrees\n",
    "\n",
    "t, p = symbols('t, p', real=True)\n",
    "\n",
    "init_printing(use_latex=True)"
   ]
  },
  {
   "cell_type": "markdown",
   "metadata": {},
   "source": [
    "![](img/lp_1.png)\n"
   ]
  },
  {
   "cell_type": "markdown",
   "metadata": {},
   "source": [
    "![](img/lp_2.png)\n"
   ]
  },
  {
   "cell_type": "code",
   "execution_count": 70,
   "metadata": {
    "pycharm": {
     "name": "#%%\n"
    }
   },
   "outputs": [],
   "source": [
    "def parallel(*rs):\n",
    "    return nsimplify(1 / sum(1 / r for r in rs))\n",
    "\n",
    "\n",
    "def series(*rs):\n",
    "    return nsimplify(sum(rs))"
   ]
  },
  {
   "cell_type": "code",
   "execution_count": 71,
   "metadata": {
    "pycharm": {
     "name": "#%%\n"
    }
   },
   "outputs": [
    {
     "data": {
      "text/latex": [
       "$\\displaystyle \\frac{8}{7 p}$"
      ],
      "text/plain": [
       " 8 \n",
       "───\n",
       "7⋅p"
      ]
     },
     "execution_count": 71,
     "metadata": {},
     "output_type": "execute_result"
    }
   ],
   "source": [
    "z1 = z2 = z3 = z4 = z5 = 1/(0.5*p)\n",
    "parallel(z1, series(z2, parallel(z3, z4, z5)))"
   ]
  },
  {
   "cell_type": "code",
   "execution_count": 72,
   "metadata": {
    "pycharm": {
     "name": "#%%\n"
    }
   },
   "outputs": [
    {
     "data": {
      "text/latex": [
       "$\\displaystyle \\frac{40}{7}$"
      ],
      "text/plain": [
       "40/7"
      ]
     },
     "execution_count": 72,
     "metadata": {},
     "output_type": "execute_result"
    }
   ],
   "source": [
    "z1 = z2 = z3 = z4 = z5 = 10\n",
    "parallel(z1, series(z2, parallel(z3, z4, z5)))"
   ]
  },
  {
   "cell_type": "markdown",
   "metadata": {},
   "source": [
    "![](img/lp_3.png)"
   ]
  },
  {
   "cell_type": "code",
   "execution_count": 73,
   "metadata": {
    "pycharm": {
     "name": "#%%\n"
    }
   },
   "outputs": [
    {
     "data": {
      "text/latex": [
       "$\\displaystyle \\left[ R_{3}\\right]$"
      ],
      "text/plain": [
       "[R₃]"
      ]
     },
     "execution_count": 73,
     "metadata": {},
     "output_type": "execute_result"
    }
   ],
   "source": [
    "i1, r1, r2, r3, rl, mu = symbols('i1, R1, R2, R3, Rl, mu')\n",
    "yr1, yr2, yr3, yrl = 1/r1, 1/r2, 1/r3, 1/rl\n",
    "\n",
    "va, vb, vc, j = Matrix([\n",
    "    [yr1, -yr1, 0, 0],\n",
    "    [-yr1, yr1+yr2+yr3, -yr3, 1],\n",
    "    [0, -yr3, yr3+yrl, 0],\n",
    "    [mu, 1-mu, 0, 0]\n",
    "]).LUsolve(Matrix([[i1, 0, 0, 0]]).T)\n",
    "\n",
    "p = vc**2 / rl\n",
    "solve(diff(p, rl), rl)"
   ]
  },
  {
   "cell_type": "markdown",
   "metadata": {},
   "source": [
    "![](img/lp_4.png)"
   ]
  },
  {
   "cell_type": "code",
   "execution_count": 74,
   "metadata": {
    "pycharm": {
     "name": "#%%\n"
    }
   },
   "outputs": [
    {
     "data": {
      "text/latex": [
       "$\\displaystyle \\operatorname{i_{L}}{\\left(t \\right)} = t - \\frac{1}{3} + \\frac{127 e^{- 3 t}}{3}$"
      ],
      "text/plain": [
       "                      -3⋅t\n",
       "             1   127⋅ℯ    \n",
       "i_L(t) = t - ─ + ─────────\n",
       "             3       3    "
      ]
     },
     "execution_count": 74,
     "metadata": {},
     "output_type": "execute_result"
    }
   ],
   "source": [
    "r1, l1 = 3, 1\n",
    "\n",
    "il = Function('i_L')(t)\n",
    "\n",
    "ode = Eq(il.diff(t) + 3*il, 3*t)\n",
    "\n",
    "simplify(dsolve(ode, il, ics={il.subs(t, 0): 42}))"
   ]
  },
  {
   "cell_type": "markdown",
   "metadata": {},
   "source": [
    "![](img/lp_5.png)"
   ]
  },
  {
   "cell_type": "code",
   "execution_count": 75,
   "metadata": {
    "pycharm": {
     "name": "#%%\n"
    }
   },
   "outputs": [
    {
     "data": {
      "text/latex": [
       "$\\displaystyle \\operatorname{i_{L}}{\\left(t \\right)} = 1.0 e^{- 3 t}$"
      ],
      "text/plain": [
       "              -3⋅t\n",
       "i_L(t) = 1.0⋅ℯ    "
      ]
     },
     "execution_count": 75,
     "metadata": {},
     "output_type": "execute_result"
    }
   ],
   "source": [
    "vin, rl, rc, l1, c1 = 3, 3, 3, 1, 1/9\n",
    "\n",
    "vc0 = vin\n",
    "il0 = (vin - 0) / rl\n",
    "il_0 = (vc0 - il0 * (rl + rc)) / l1\n",
    "\n",
    "il = Function('i_L')(t)\n",
    "\n",
    "ode = Eq(il.diff(t, t) + 6 * il.diff(t) + 9*il, 0)\n",
    "\n",
    "dsolve(ode, il, ics={il.subs(t, 0): il0, il.diff(t).subs(t, 0): il_0})"
   ]
  },
  {
   "cell_type": "markdown",
   "metadata": {},
   "source": [
    "![](img/lp_6.png)"
   ]
  },
  {
   "cell_type": "code",
   "execution_count": 76,
   "metadata": {
    "pycharm": {
     "name": "#%%\n"
    }
   },
   "outputs": [
    {
     "data": {
      "text/latex": [
       "$\\displaystyle - 3.2 \\sin{\\left(2 t + 0.645771823237902 \\right)} + 2.4 \\cos{\\left(2 t + 0.645771823237902 \\right)}$"
      ],
      "text/plain": [
       "-3.2⋅sin(2⋅t + 0.645771823237902) + 2.4⋅cos(2⋅t + 0.645771823237902)"
      ]
     },
     "execution_count": 76,
     "metadata": {},
     "output_type": "execute_result"
    }
   ],
   "source": [
    "omega = 2\n",
    "r = radians(37)  # `Sympy.exp` gerir ráð fyrir radíönum\n",
    "\n",
    "vin = 5 * exp(I*(omega*t + r)) # Straumurinn á tvinntöluformi\n",
    "\n",
    "r1, r2, l1, l2 = 1, 1, 1, 1\n",
    "yr1, yr2, yl1, yl2 = 1/r1, 1/r2, 1/(l1*I*omega), 1/(l2*I*omega)\n",
    "\n",
    "_, vout = Matrix([\n",
    "    [yr1+yl2+yr2, -yl2-yr2],\n",
    "    [-yr2, yr2+yl1],\n",
    "]).LUsolve(Matrix([[yr1*vin, 0]]).T)\n",
    "\n",
    "vout = re(simplify(vout))  # Tökum rauntölu-hluta útmerkisins.\n",
    "vout"
   ]
  },
  {
   "cell_type": "markdown",
   "metadata": {
    "pycharm": {
     "name": "#%% md\n"
    }
   },
   "source": [
    "Svarið er ekki á formi sem auðvelt er að skilja!\n",
    "\n",
    "Vörpum $a*cos(x) * b*sin(x) \\rightarrow c*cos(x + theta)$.\n",
    "\n",
    "Finnum stuðla og notum aðferð frá [Wikipedia](https://en.wikipedia.org/wiki/List_of_trigonometric_identities#Linear_combinations)\n",
    "\n",
    "$c = \\sqrt{a^2 + b^2}$"
   ]
  },
  {
   "cell_type": "code",
   "execution_count": 77,
   "metadata": {
    "pycharm": {
     "name": "#%%\n"
    },
    "scrolled": true
   },
   "outputs": [
    {
     "data": {
      "text/latex": [
       "$\\displaystyle 4.0 \\cos{\\left(2 t + 90.130102354156 \\right)}$"
      ],
      "text/plain": [
       "4.0⋅cos(2⋅t + 90.130102354156)"
      ]
     },
     "execution_count": 77,
     "metadata": {},
     "output_type": "execute_result"
    }
   ],
   "source": [
    "studlar = collect(vout, [sin(2*t + r), cos(2*t + r)], evaluate=False)\n",
    "b, a = studlar[sin(2*t + r)], studlar[cos(2*t + r)]\n",
    "\n",
    "c, theta = sign(a) * sqrt(a**2 + b**2), atan2(-b, a)\n",
    "\n",
    "c * cos(omega * t + degrees(r + theta))"
   ]
  }
 ],
 "metadata": {
  "kernelspec": {
   "display_name": "Python 3",
   "language": "python",
   "name": "python3"
  },
  "language_info": {
   "codemirror_mode": {
    "name": "ipython",
    "version": 3
   },
   "file_extension": ".py",
   "mimetype": "text/x-python",
   "name": "python",
   "nbconvert_exporter": "python",
   "pygments_lexer": "ipython3",
   "version": "3.9.2"
  }
 },
 "nbformat": 4,
 "nbformat_minor": 1
}