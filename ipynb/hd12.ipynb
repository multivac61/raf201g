{
 "cells": [
  {
   "cell_type": "markdown",
   "metadata": {
    "collapsed": true,
    "pycharm": {
     "name": "#%% md\n"
    }
   },
   "source": [
    "<div align=\"right\" style=\"text-align:right\"><i>Ólafur Bjarki Bogason<br>MIT License<br>2021</i></div>\n",
    "\n",
    "# Dæmi 3 úr heimadæmum 12 leyst með Sympy\n",
    "\n",
    "![Rásin](img/hd12_3.png)\n",
    "\n",
    "Byrjum á því að sækja þau föll sem við þurfum úr `sympy`, skilgreinum breytu `t` fyrir tíma og setjum inn gildi á rásaeiningum."
   ]
  },
  {
   "cell_type": "code",
   "execution_count": 1,
   "metadata": {
    "pycharm": {
     "name": "#%%\n"
    }
   },
   "outputs": [],
   "source": [
    "from sympy import symbols, Matrix, simplify, cos, sin, I, atan2, exp, re, collect, sign, sqrt, Abs, arg\n",
    "from math import radians, degrees\n",
    "\n",
    "# Horntíðnin er fasti\n",
    "omega = 2  # rad/s\n",
    "\n",
    "# Breytan `t` táknar tíma\n",
    "t = symbols('t', real=True)\n",
    "\n",
    "# Gildi á rásaeiningum er fasti\n",
    "r1, r2, r3, r4, c1, l1 = 1, 1, 1, 2, 2, 2\n",
    "\n",
    "yr1, yr2, yr3, yr4, yc1, yl1 = 1 / r1, 1 / r2, 1 / r3, 1 / r4, (c1 * omega * I), 1 / (l1 * omega * I)"
   ]
  },
  {
   "cell_type": "markdown",
   "metadata": {
    "pycharm": {
     "name": "#%% md\n"
    }
   },
   "source": [
    "# Aðferð 1\n",
    "Gerum ráð fyrir að $i = 1$A og margföldum með $12<30$-gráðu virkja í lokinn."
   ]
  },
  {
   "cell_type": "code",
   "execution_count": 2,
   "metadata": {
    "pycharm": {
     "name": "#%%\n"
    }
   },
   "outputs": [
    {
     "name": "stdout",
     "output_type": "stream",
     "text": [
      "v(t) = 1.455213750218*cos(2*t - 45.9637565320735)\n"
     ]
    }
   ],
   "source": [
    "va, vb, vc = simplify(Matrix([\n",
    "    [yr1 + yr2 + yc1, -yr2, -yc1],\n",
    "    [-yr2, yr2 + yr3 + yl1, -yr3],\n",
    "    [-yc1, -yr3, yc1 + yr3 + yr4]\n",
    "]).LUsolve(Matrix([[1, 0, 0]]).T))  # Set inn i = 1 A hér\n",
    "\n",
    "v = simplify(va - vb)\n",
    "\n",
    "# Breytum á pólform\n",
    "r, theta = Abs(v), degrees(arg(v))\n",
    "\n",
    "# Að lokum margföldum við með 12 og leggjum 30 gráður við\n",
    "print(f\"v(t) = {r * 12 * cos(omega * t + 30 + theta)}\")\n"
   ]
  },
  {
   "cell_type": "markdown",
   "metadata": {
    "pycharm": {
     "name": "#%% md\n"
    }
   },
   "source": [
    "# Aðferð 2\n",
    "\n",
    "Ímyndum okkur að straumurinn sé tvinntala"
   ]
  },
  {
   "cell_type": "code",
   "execution_count": 3,
   "metadata": {
    "pycharm": {
     "name": "#%%\n"
    }
   },
   "outputs": [
    {
     "name": "stdout",
     "output_type": "stream",
     "text": [
      "v(t) = 1.41176470588235*sin(2*t + 0.523598775598299) + 0.35294117647059*cos(2*t + 0.523598775598299)\n",
      "v(t) = 1.455213750218*cos(2*t - 45.9637565320735)\n"
     ]
    }
   ],
   "source": [
    "r = radians(30)  # `Sympy.exp` gerir ráð fyrir radíönum\n",
    "\n",
    "i = 12 * exp(I*(omega*t + r)) # Straumurinn á tvinntöluformi\n",
    "\n",
    "va, vb, vc = simplify(Matrix([\n",
    "    [yr1 + yr2 + yc1, -yr2, -yc1],\n",
    "    [-yr2, yr2 + yr3 + yl1, -yr3],\n",
    "    [-yc1, -yr3, yc1 + yr3 + yr4]\n",
    "]).LUsolve(Matrix([[i, 0, 0]]).T))  # Hér setjum við inn strauminn á tvinntöluformi\n",
    "\n",
    "# Tökum rauntölu-hluta útmerkisins. Svarið er ekki á réttu formi sem er auðvelt að skilja!\n",
    "v_out = re(simplify(va - vb))\n",
    "print(f\"v(t) = {v_out}\")\n",
    "\n",
    "# Vörpum úr a*cos(x) * b*sin(x) -> c*cos(x + theta)\n",
    "# Finnum stuðla og notum aðferð frá https://en.wikipedia.org/wiki/List_of_trigonometric_identities#Linear_combinations\n",
    "studlar = collect(v_out, [sin(2*t + r), cos(2*t + r)], evaluate=False)\n",
    "b, a = studlar[sin(2*t + r)], studlar[cos(2*t + r)]\n",
    "\n",
    "c, theta = sign(a) * sqrt(a**2 + b**2), atan2(-b, a)\n",
    "\n",
    "print(f\"v(t) = {c * cos(omega * t + degrees(r + theta))}\")"
   ]
  }
 ],
 "metadata": {
  "kernelspec": {
   "display_name": "Python 3",
   "language": "python",
   "name": "python3"
  },
  "language_info": {
   "codemirror_mode": {
    "name": "ipython",
    "version": 3
   },
   "file_extension": ".py",
   "mimetype": "text/x-python",
   "name": "python",
   "nbconvert_exporter": "python",
   "pygments_lexer": "ipython3",
   "version": "3.9.2"
  }
 },
 "nbformat": 4,
 "nbformat_minor": 1
}