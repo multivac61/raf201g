{
 "cells": [
  {
   "cell_type": "markdown",
   "metadata": {
    "collapsed": true,
    "pycharm": {
     "name": "#%% md\n"
    }
   },
   "source": [
    "<div align=\"right\" style=\"text-align:right\"><i>Ólafur Bjarki Bogason<br>MIT License<br>2021</i></div>\n",
    "\n",
    "# Heimadæmi 2 leyst með Sympy"
   ]
  },
  {
   "cell_type": "code",
   "execution_count": 4,
   "metadata": {
    "pycharm": {
     "name": "#%%\n"
    }
   },
   "outputs": [],
   "source": [
    "from sympy import symbols, Matrix, nsimplify, solve, Eq\n",
    " \n",
    "def simplify(expr):\n",
    "    \"\"\"Simplify to a rational expression\"\"\"\n",
    "    return nsimplify(expr, rational=True)"
   ]
  },
  {
   "cell_type": "markdown",
   "metadata": {
    "pycharm": {
     "name": "#%% md\n"
    }
   },
   "source": [
    "# Dæmi 1 - Finna gildi á viðnámum $R_1, R_2$\n",
    "\n",
    "Við vitum að jafngildisviðnám fyrir tvö hliðtengd viðnám $R_1$ og $R_2$ fæst með eftirfarandi"
   ]
  },
  {
   "cell_type": "code",
   "execution_count": 104,
   "metadata": {
    "pycharm": {
     "name": "#%%\n"
    }
   },
   "outputs": [
    {
     "data": {
      "text/latex": [
       "$\\displaystyle \\frac{5}{3}$"
      ],
      "text/plain": [
       "5/3"
      ]
     },
     "execution_count": 104,
     "metadata": {},
     "output_type": "execute_result"
    }
   ],
   "source": [
    "def parallel(R1, R2):\n",
    "    return R1*R2 / (R1+R2)\n",
    "\n",
    "simplify(parallel(10, 2))"
   ]
  },
  {
   "cell_type": "markdown",
   "metadata": {},
   "source": [
    "Sömuleiðis vitum við að $R_1 = 3 R_2$, og $R_1 \\mathbin{\\|} R_2 = 10k\\Omega$. Nú höfum við tvær jöfnur, og tvær óþekktar sem við getum leyst með `sympy.solve`"
   ]
  },
  {
   "cell_type": "code",
   "execution_count": 105,
   "metadata": {
    "pycharm": {
     "name": "#%%\n"
    }
   },
   "outputs": [
    {
     "name": "stdout",
     "output_type": "stream",
     "text": [
      "R1: 15000 Ohm, R2: 7500 Ohm\n"
     ]
    }
   ],
   "source": [
    "def daemi_1(hlutfall=3, jafngildisvidnam=10e3):\n",
    "    R1, R2 = symbols('R1 R2')\n",
    "\n",
    "    eqn1 = Eq(R1, hlutfall*R2)\n",
    "    eqn2 = Eq(parallel(R1, R2), jafngildisvidnam)\n",
    "\n",
    "    (R1, R2), *_ = solve((eqn1, eqn2), R1, R2)\n",
    "\n",
    "    return simplify(R1), simplify(R2)\n",
    "\n",
    "R1_svar, R2_svar = daemi_1()\n",
    "\n",
    "print(f'R1: {R1_svar} Ohm, R2: {R2_svar} Ohm')"
   ]
  },
  {
   "cell_type": "markdown",
   "metadata": {},
   "source": [
    "# Dæmi 2 - Finnum spennur $v_a, v_b, v_c, v_d$\n",
    "\n",
    "![Rás fyrir dæmi 2](img/hd2_2.png)\n",
    "\n",
    "Munum að $G = 1/R$, og að við þurfum $N_{jöfnur} = N_{hnútpunktar} + N_{spennulindir} - 1 = 5 + 2 -1 = 6$. Setjum nú upp jöfnurnar og leysum með `sympy.solve`."
   ]
  },
  {
   "cell_type": "code",
   "execution_count": 234,
   "metadata": {},
   "outputs": [
    {
     "name": "stdout",
     "output_type": "stream",
     "text": [
      "va: 2.00 V, vb: 1.41 V, vc: 3.00 V, vd: 0.84 V\n"
     ]
    }
   ],
   "source": [
    "G1, G2, G3, G4, V1, V2 = {'G1': 1 / 4, 'G2': 1 / 12, 'G3': 1 / 2, 'G4': 1 / 3, 'V1': 2, 'V2': 3}.values()\n",
    "\n",
    "va, vb, vc, vd, jv1, jv2 = symbols('va vb vc vd jv1 jv2')\n",
    "\n",
    "kcl_a = Eq(jv1 + (va - vb) * G1, 0)\n",
    "kcl_b = Eq((vb-va)*G1 + (vb-vc)*G2 + (vb-vd)*G3, 0)\n",
    "kcl_c = Eq((vc-vb)*G2 + jv2, 0)\n",
    "kcl_d = Eq((vd - vb)*G3 + (vd - 0)*G4, 0)\n",
    "\n",
    "kvl_v1 = Eq(va - 0, V1)\n",
    "kvl_v2 = Eq(vc - 0, V2)\n",
    "\n",
    "va, vb, vc, vd, jv1, jv2 = solve((kcl_a, kcl_b, kcl_c, kcl_d, kvl_v1, kvl_v2), va, vb, vc, vd, jv1, jv2).values()\n",
    "\n",
    "print(f'va: {va:.2f} V, vb: {vb:.2f} V, vc: {vc:.2f} V, vd: {vd:.2f} V')"
   ]
  },
  {
   "cell_type": "markdown",
   "metadata": {},
   "source": [
    "Hér er sama dæmi leyst með MNA."
   ]
  },
  {
   "cell_type": "code",
   "execution_count": 235,
   "metadata": {
    "pycharm": {
     "name": "#%%\n"
    }
   },
   "outputs": [],
   "source": [
    "def ras_2():\n",
    "    V1, V2, G1, G2, G3, G4 = symbols('V1 V2 G1 G2 G3 G4')\n",
    "\n",
    "    A = Matrix([\n",
    "        [G1, -G1, 0, 0, 1, 0],                # KCL í a\n",
    "        [-G1, G1 + G2 + G3, -G2, -G3, 0, 0],  # KCL í b\n",
    "        [0, -G2, G2, 0, 0, 1],                # KCL í c\n",
    "        [0, -G3, 0, G3+G4, 0, 0],             # KCL í d\n",
    "        [1, 0, 0, 0, 0, 0],                   # KVL yfir V1\n",
    "        [0, 0, 1, 0, 0, 0],                   # KVL yfir V2\n",
    "    ])\n",
    "\n",
    "    b = Matrix([[0, 0, 0, 0, V1, V2]]).T\n",
    "\n",
    "    return A.LUsolve(b)"
   ]
  },
  {
   "cell_type": "code",
   "execution_count": 236,
   "metadata": {
    "pycharm": {
     "name": "#%%\n"
    }
   },
   "outputs": [],
   "source": [
    "def daemi_2(gildi):\n",
    "    va, vb, vc, vd, jv, jvcvs = ras_2().subs(gildi)\n",
    "\n",
    "    print(f'va: {va} V, vb: {vb:.2f} V, vc: {vc} V, vd: {vd:.2f} V')"
   ]
  },
  {
   "cell_type": "code",
   "execution_count": 237,
   "metadata": {
    "pycharm": {
     "name": "#%%\n"
    }
   },
   "outputs": [
    {
     "name": "stdout",
     "output_type": "stream",
     "text": [
      "va: 2 V, vb: 1.41 V, vc: 3 V, vd: 0.84 V\n"
     ]
    }
   ],
   "source": [
    "daemi_2(daemi_2_gildi)"
   ]
  },
  {
   "cell_type": "markdown",
   "metadata": {},
   "source": [
    "# Dæmi 3 - Finna $V$ ef $i_6$, straumur í grein, er gefinn\n",
    "\n",
    "Tökum eftir því að $V = v_a - 0$\n",
    "\n",
    "![Rás fyrir dæmi 2](img/hd2_3.png)"
   ]
  },
  {
   "cell_type": "code",
   "execution_count": 241,
   "metadata": {},
   "outputs": [
    {
     "name": "stdout",
     "output_type": "stream",
     "text": [
      "V: 300.00 V\n"
     ]
    }
   ],
   "source": [
    "G1, G2, G3, G4, G5, G6 = {'G1': 1 / 20, 'G2': 1 / 16, 'G3': 1 / 5, 'G4': 1 / 10, 'G5': 1 / 30, 'G6': 1 / 20}.values()\n",
    "\n",
    "V, va, vb, vc, jv = symbols('V va vb vc jv')\n",
    "\n",
    "# Vitum spennu í vd með lögmáli Ohm\n",
    "vd = 1 / G6\n",
    "\n",
    "kcl_a = Eq(jv + (va - vb) * G1, 0)\n",
    "kcl_b = Eq((vb-va)*G1 + (vb-0)*G2 + (vb-vc)*G3, 0)\n",
    "kcl_c = Eq((vc-vb)*G3 + (vc - 0)*G4 + (vc - vd)*G5, 0)\n",
    "kcl_d = Eq((vd - vc)*G5 + (vd - 0)*G6, 0)\n",
    "\n",
    "kvl_v1 = Eq(va - 0, V)\n",
    "\n",
    "V_sol, *_ = solve((kcl_a, kcl_b, kcl_c, kcl_d, kvl_v1), V, va, vb, vc, jv).values()\n",
    "\n",
    "print(f'V: {V_sol:.2f} V')"
   ]
  },
  {
   "cell_type": "markdown",
   "metadata": {},
   "source": [
    "# Dæmi 4 - Straumlindir\n",
    "![Dæmi 4](img/hd2_4.png)"
   ]
  },
  {
   "cell_type": "code",
   "execution_count": 242,
   "metadata": {
    "pycharm": {
     "name": "#%%\n"
    }
   },
   "outputs": [],
   "source": [
    "def ras_4():\n",
    "    I1, I2, I3, I4, I5 = symbols('I1 I2 I3 I4 I5')\n",
    "    G1, G2, G3, G4, G5, G6, G7, G8, G9, G10 = symbols('G1 G2 G3 G4 G5 G6 G7 G8 G9 G10')\n",
    "\n",
    "    A = Matrix([\n",
    "        [G1 + G2 + G3, -G3, -G2, 0, 0],                 # KCL í a (ekki I2, er í b vigri)\n",
    "        [-G3, G3 + G4 + G5, -G4, -G5, 0],               # KCL í b (ekki I1, er í b vigri)\n",
    "        [-G2, -G4, G2 + G4 + G6 + G7 + G8, -G7, -G8],   # KCL í c (ekki I3, er í b vigri)\n",
    "        [0, -G5, -G7, G5 + G7 + G9, -G9],               # KCL í d (ekki I5, er í b vigri)\n",
    "        [0, 0, -G8, -G9, G8 + G9 + G10],                # KCL í e (ekki I4, er í b vigri)\n",
    "    ])\n",
    "\n",
    "    b = Matrix([[I2, I1, I3, I5, I4]]).T\n",
    "\n",
    "    return A.LUsolve(b)"
   ]
  },
  {
   "cell_type": "code",
   "execution_count": 243,
   "metadata": {
    "pycharm": {
     "name": "#%%\n"
    }
   },
   "outputs": [],
   "source": [
    "def daemi_4():\n",
    "    va, vb, vc, vd, ve = ras_4().subs({\n",
    "        'G1': 1, 'G2': 2, 'G3': 1, 'G4': 3, 'G5': 2, \n",
    "        'G6': 1, 'G7': 1, 'G8': 3, 'G9': 2, 'G10': 2, \n",
    "        'I1': 3, 'I2': -1, 'I3': -2, 'I4': 4, 'I5': 2\n",
    "    })\n",
    "    \n",
    "    print(f'va: {va} V, vb: {vb} V, vc: {vc} V, vd: {vd} V, ve: {ve} V')\n",
    "    print(f'va: {float(va):.4f} V, vb: {float(vb):.4f} V, vc: {float(vc):.4f} V, vd: {float(vd):.4f} V, ve: {float(ve):.4f} V')"
   ]
  },
  {
   "cell_type": "code",
   "execution_count": 244,
   "metadata": {
    "pycharm": {
     "name": "#%%\n"
    }
   },
   "outputs": [
    {
     "name": "stdout",
     "output_type": "stream",
     "text": [
      "va: 1791/1834 V, vb: 1936/917 V, vc: 2563/1834 V, vd: 4125/1834 V, ve: 475/262 V\n",
      "va: 0.9766 V, vb: 2.1112 V, vc: 1.3975 V, vd: 2.2492 V, ve: 1.8130 V\n"
     ]
    }
   ],
   "source": [
    "daemi_4()"
   ]
  },
  {
   "cell_type": "markdown",
   "metadata": {},
   "source": [
    "# Dæmi 4 - Ekki á heimadæmum, spennulindir í stað straumlinda\n",
    "![Dæmi 4](img/hd2_4_vs.png)"
   ]
  },
  {
   "cell_type": "code",
   "execution_count": 45,
   "metadata": {
    "pycharm": {
     "name": "#%%\n"
    }
   },
   "outputs": [],
   "source": [
    "def ras_4_spennulindir():\n",
    "    V1, V2, V3, V4, V5 = symbols('V1 V2 V3 V4 V5')\n",
    "    G1, G2, G3, G4, G5, G6, G7, G8, G9, G10 = symbols('G1 G2 G3 G4 G5 G6 G7 G8 G9 G10')\n",
    "\n",
    "    A = Matrix([\n",
    "        [G1 + G2 + G3, -G3, -G2, 0, 0, 0, 1, 0, 0, 0],                # KCL í a (ekki I2, er í b vigri)\n",
    "        [-G3, G3 + G4 + G5, -G4, -G5, 0, 1, 0, 0, 0, 0],\n",
    "        [-G2, -G4, G2 + G4 + G6 + G7 + G8, -G7, -G8, 0, 0, 1, 0, 0],\n",
    "        [0, -G5, -G7, G5 + G7 + G9, -G9, 0, 0, 0, 0, 1],\n",
    "        [0, 0, -G8, -G9, G8 + G9 + G10, 0, 0, 0, 1, 0],\n",
    "        [0, 1, 0, 0, 0, 0, 0, 0, 0, 0],\n",
    "        [1, 0, 0, 0, 0, 0, 0, 0, 0, 0],\n",
    "        [0, 0, 1, 0, 0, 0, 0, 0, 0, 0],\n",
    "        [0, 0, 0, 0, 1, 0, 0, 0, 0, 0],\n",
    "        [0, 0, 0, 1, 0, 0, 0, 0, 0, 0],\n",
    "    ])\n",
    "\n",
    "    b = Matrix([[0, 0, 0, 0, 0, V1, V2, V3, V4, V5]]).T\n",
    "\n",
    "    return A.LUsolve(b)"
   ]
  },
  {
   "cell_type": "code",
   "execution_count": 46,
   "metadata": {
    "pycharm": {
     "name": "#%%\n"
    }
   },
   "outputs": [],
   "source": [
    "def daemi_4_spennulindir():\n",
    "    ras = ras_4_spennulindir().subs({\n",
    "        'G1': 1, 'G2': 2, 'G3': 1, 'G4': 3, 'G5': 2,\n",
    "        'G6': 1, 'G7': 1, 'G8': 3, 'G9': 2, 'G10': 2,\n",
    "        'V1': 3, 'V2': -1, 'V3': -2, 'V4': 4, 'V5': 2\n",
    "    })\n",
    "    \n",
    "    va, vb, vc, vd, ve, *_ = simplify(ras)\n",
    "    \n",
    "    assert (va, vb, vc, vd, ve) == (-1, 3, -2, 2, 4)\n",
    "    \n",
    "    print(f'va: {va} V, vb: {vb} V, vc: {vc} V, vd: {vd} V, ve: {ve} V')"
   ]
  },
  {
   "cell_type": "code",
   "execution_count": 47,
   "metadata": {
    "pycharm": {
     "name": "#%%\n"
    }
   },
   "outputs": [
    {
     "name": "stdout",
     "output_type": "stream",
     "text": [
      "va: -1 V, vb: 3 V, vc: -2 V, vd: 2 V, ve: 4 V\n"
     ]
    }
   ],
   "source": [
    "daemi_4_spennulindir()"
   ]
  },
  {
   "cell_type": "markdown",
   "metadata": {},
   "source": [
    "# Dæmi 5\n",
    "![Dæmi 5](img/hd2_5.png)"
   ]
  },
  {
   "cell_type": "code",
   "execution_count": 48,
   "metadata": {
    "pycharm": {
     "name": "#%%\n"
    }
   },
   "outputs": [],
   "source": [
    "def ras_5():\n",
    "    V, G1, G2, G3, G4, G5, G6 = symbols('V G1 G2 G3 G4 G5 G6')\n",
    "\n",
    "    A = Matrix([\n",
    "        [G1 + G2, -G1, -G2, 0, 1],           # KCL í a\n",
    "        [-G1, G1 + G3 + G5, -G3, -G5, 0],    # KCL í b \n",
    "        [-G2, -G3, G2 + G3 + G4, -G4, 0],    # KCL í c\n",
    "        [0, -G5, -G4, G4 + G5 + G6, 0],      # KCL í d\n",
    "        [1, 0, 0, 0, 0],                     # Tengjum spennu yfir V1 við hnútpunkta\n",
    "    ])\n",
    "\n",
    "    b = Matrix([[0, 0, 0, 0, V]]).T          # Engin óháð straumlind svo fyrstu fjögur stökin eru núll.\n",
    "\n",
    "    return A.LUsolve(b)"
   ]
  },
  {
   "cell_type": "code",
   "execution_count": 199,
   "metadata": {
    "pycharm": {
     "name": "#%%\n"
    }
   },
   "outputs": [],
   "source": [
    "def daemi_5(gildi):\n",
    "    va, vb, vc, vd, jv = ras_5().subs(gildi)\n",
    "    i4 = (vc - vd)* gildi['G4']\n",
    "\n",
    "    print(f'va: {va:.2f} V, vb: {vb:.2f} V, vc: {vc:.} V, vd: {vd} V, i_4: {i4} A')"
   ]
  },
  {
   "cell_type": "code",
   "execution_count": 200,
   "metadata": {
    "pycharm": {
     "name": "#%%\n"
    }
   },
   "outputs": [
    {
     "name": "stdout",
     "output_type": "stream",
     "text": [
      "va: 1 V, vb: 0.750000000000000 V, vc: 0.750000000000000 V, vd: 0.500000000000000 V, i_4: 0.250000000000000 A\n",
      "va: 1 V, vb: 0.936170212765957 V, vc: 0.904255319148936 V, vd: 0.670212765957447 V, i_4: 0.0585106382978723 A\n"
     ]
    }
   ],
   "source": [
    "daemi_5({'V': 1, 'G1': 1 / 1, 'G2': 1 / 1, 'G3': 1 / 1, 'G4': 1 / 1, 'G5': 1 / 1, 'G6': 1 / 1})\n",
    "\n",
    "# Aukadæmi\n",
    "daemi_5({'V': 1, 'G1': 1 / 1, 'G2': 1 / 2, 'G3': 1 / 3, 'G4': 1 / 4, 'G5': 1 / 5, 'G6': 1 / 6})"
   ]
  }
 ],
 "metadata": {
  "kernelspec": {
   "display_name": "Python 3",
   "language": "python",
   "name": "python3"
  },
  "language_info": {
   "codemirror_mode": {
    "name": "ipython",
    "version": 3
   },
   "file_extension": ".py",
   "mimetype": "text/x-python",
   "name": "python",
   "nbconvert_exporter": "python",
   "pygments_lexer": "ipython3",
   "version": "3.8.2"
  }
 },
 "nbformat": 4,
 "nbformat_minor": 1
}
