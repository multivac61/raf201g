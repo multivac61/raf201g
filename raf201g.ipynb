{
 "cells": [
  {
   "cell_type": "markdown",
   "metadata": {},
   "source": [
    "<div align=\"right\" style=\"text-align:right\"><i>Ólafur Bjarki Bogason<br>MIT License<br>2021</i></div>\n",
    "\n",
    "# Rásir leystar með táknum\n",
    "\n",
    "Í þessu skjali munum við læra að leysa einfaldar rafrásir með táknum (e. symbol). Til þess notum við Python forritunarmálið, sem er ókeypis og aðgengilegt víða, sem og [sympy pakkann](https://www.sympy.org/en/index.html) sem gerir okkur kleift að reikna jöfnur með táknum (e. symbolic calculation) í stað talna (e. numeric calculation). \n",
    "\n",
    "Ef þú kannt lítið á Python mæli ég með að þú [kynnir þér forritunarmálið fyrst](https://www.python.org/). Þetta skjal er [Jupyter vinnubók](https://jupyter.org/) og er hentugt viðmót til að sameina kóða, myndir og texta. Hér getur þú getur keyrt kóða, breytt og bætt, án þess að setja upp sérstakt forritunarumhverfi á tölvunni þinni, sem tekur oft $\\pi$-falt lengri tíma en maður heldur 🤦.\n",
    "\n",
    "---\n",
    "\n",
    "Við ætlum að leysa rásir með *endurbættri hnútpunktagreiningu* (e. [Modified Nodal Analysis](https://ieeexplore.ieee.org/document/1084079), [upprunaleg vísindagrein aðgengileg hér](https://www.researchgate.net/profile/Albert_Ruehli/publication/3184759_The_Modified_Nodal_Approach_to_Network_Analysis/links/5bd34b78299bf1124fa62972/The-Modified-Nodal-Approach-to-Network-Analysis.pdf)). \n",
    "\n",
    "MNA er hornsteinn SPICE rásahermisins. Ótrúlegt en satt þá byrjaði SPICE verkefnið sem nemendaverkefni í rafmagnsverkfræði við Berkeley háskóla. Fyrsta útgáfa kom út 1971. Ef þið viljið læra á SPICE, mæli með að læra á [LTspice](https://en.wikipedia.org/wiki/LTspice).\n",
    "\n",
    "Hér eru áhugaverð myndbönd um þróun SPICE hermisins\n",
    "* [The Life of SPICE](https://www.youtube.com/watch?v=IkOb19FwgqY)\n",
    "* [40th anniversary of SPICE (Simulation Program with Integrated Circuit Emphasis)](https://www.youtube.com/watch?v=Ta0KiizCRzI)\n",
    "\n",
    "---\n",
    "\n",
    "Fyrst sækjum við það sem við þurfum úr `sympy` pakkanum."
   ]
  },
  {
   "cell_type": "code",
   "execution_count": 18,
   "metadata": {},
   "outputs": [],
   "source": [
    "from sympy import symbols, Matrix, nsimplify, solve, Eq, init_printing, simplify\n",
    "init_printing(use_latex=True)\n",
    "\n",
    "def rational(expr):\n",
    "    \"\"\"Simplify to a rational expression\"\"\"\n",
    "    return nsimplify(expr, rational=True)"
   ]
  },
  {
   "cell_type": "markdown",
   "metadata": {},
   "source": [
    "Núna getum við skilgreint tákn, reiknað út og leyst jöfnur með þeim."
   ]
  },
  {
   "cell_type": "code",
   "execution_count": 19,
   "metadata": {
    "pycharm": {
     "name": "#%%\n"
    }
   },
   "outputs": [
    {
     "data": {
      "text/latex": [
       "$\\displaystyle \\left[ -1, \\  1\\right]$"
      ],
      "text/plain": [
       "[-1, 1]"
      ]
     },
     "execution_count": 19,
     "metadata": {},
     "output_type": "execute_result"
    }
   ],
   "source": [
    "x, y = symbols('x y')\n",
    "\n",
    "y = x ** 2 - 1\n",
    "\n",
    "solve(y, x)"
   ]
  },
  {
   "cell_type": "markdown",
   "metadata": {
    "pycharm": {
     "name": "#%% md\n"
    }
   },
   "source": [
    "Hér að ofan fáum við út að lausnir á jöfnunni $x^2 - 1 = 0$, eru $x \\in \\{-1, 1\\}$.\n",
    "\n",
    "Sömuleiðis getum við leyst línuleg kerfi á forminu $A \\vec{x} = \\vec{b}$, eins og kerfin sem koma fyrir í greiningu rása."
   ]
  },
  {
   "cell_type": "code",
   "execution_count": 20,
   "metadata": {
    "pycharm": {
     "name": "#%%\n"
    }
   },
   "outputs": [
    {
     "data": {
      "text/latex": [
       "$\\displaystyle \\left[\\begin{matrix}V_{1}\\\\\\frac{G_{1} V_{1} + G_{3} V_{2}}{G_{1} + G_{2} + G_{3} - G_{4}}\\\\V_{2}\\\\\\frac{G_{1} V_{1} + G_{3} V_{2}}{G_{1} + G_{2} + G_{3} - G_{4}}\\\\\\frac{G_{1} \\left(- G_{2} V_{1} - G_{3} V_{1} + G_{3} V_{2} + G_{4} V_{1}\\right)}{G_{1} + G_{2} + G_{3} - G_{4}}\\\\\\frac{G_{3} \\left(G_{1} V_{1} - G_{1} V_{2} - G_{2} V_{2} + G_{4} V_{2}\\right)}{G_{1} + G_{2} + G_{3} - G_{4}}\\end{matrix}\\right]$"
      ],
      "text/plain": [
       "⎡                V₁                 ⎤\n",
       "⎢                                   ⎥\n",
       "⎢           G₁⋅V₁ + G₃⋅V₂           ⎥\n",
       "⎢         ─────────────────         ⎥\n",
       "⎢         G₁ + G₂ + G₃ - G₄         ⎥\n",
       "⎢                                   ⎥\n",
       "⎢                V₂                 ⎥\n",
       "⎢                                   ⎥\n",
       "⎢           G₁⋅V₁ + G₃⋅V₂           ⎥\n",
       "⎢         ─────────────────         ⎥\n",
       "⎢         G₁ + G₂ + G₃ - G₄         ⎥\n",
       "⎢                                   ⎥\n",
       "⎢G₁⋅(-G₂⋅V₁ - G₃⋅V₁ + G₃⋅V₂ + G₄⋅V₁)⎥\n",
       "⎢───────────────────────────────────⎥\n",
       "⎢         G₁ + G₂ + G₃ - G₄         ⎥\n",
       "⎢                                   ⎥\n",
       "⎢G₃⋅(G₁⋅V₁ - G₁⋅V₂ - G₂⋅V₂ + G₄⋅V₂) ⎥\n",
       "⎢────────────────────────────────── ⎥\n",
       "⎣        G₁ + G₂ + G₃ - G₄          ⎦"
      ]
     },
     "execution_count": 20,
     "metadata": {},
     "output_type": "execute_result"
    }
   ],
   "source": [
    "# Hér skilgreinum við allar spennur, strauma og viðnám eða leiðni (e. conductance)\n",
    "V1, V2, G1, G2, G3, G4 = symbols('V1 V2 G1 G2 G3 G4')\n",
    "\n",
    "# Fyllum inn í fylki A\n",
    "A = Matrix([\n",
    "    [G1, -G1, 0, 0, 1, 0],\n",
    "    [-G1, G1 + G2 + G3, -G3, -G4, 0, 0],\n",
    "    [0, -G3, G3, 0, 0, 1],\n",
    "    [0, -G4, 0, G4, 0, 0],\n",
    "    [1, 0, 0, 0, 0, 0],\n",
    "    [0, 0, 1, 0, 0, 0],\n",
    "])\n",
    "\n",
    "b = Matrix([[0, 0, 0, 0, V1, V2]]).T\n",
    "\n",
    "x = A.LUsolve(b) # Finnum lausn fyrir kerfið\n",
    "\n",
    "simplify(x) # Notum algebru til að einfalda"
   ]
  },
  {
   "cell_type": "markdown",
   "metadata": {},
   "source": [
    "Í framhaldinu getum við sett inn hvaða tölur sem við viljum inn í staðinn fyrir $V_1, V_2, G_1, G_2, G_3, G_4, G_5$ með `subs`-titude skipuninni í `sympy`."
   ]
  },
  {
   "cell_type": "code",
   "execution_count": 21,
   "metadata": {},
   "outputs": [
    {
     "data": {
      "text/latex": [
       "$\\displaystyle \\left[\\begin{matrix}7\\\\\\frac{133}{41}\\\\42\\\\\\frac{133}{41}\\\\- \\frac{154}{41}\\\\- \\frac{4767}{41}\\end{matrix}\\right]$"
      ],
      "text/plain": [
       "⎡  7   ⎤\n",
       "⎢      ⎥\n",
       "⎢ 133  ⎥\n",
       "⎢ ───  ⎥\n",
       "⎢  41  ⎥\n",
       "⎢      ⎥\n",
       "⎢  42  ⎥\n",
       "⎢      ⎥\n",
       "⎢ 133  ⎥\n",
       "⎢ ───  ⎥\n",
       "⎢  41  ⎥\n",
       "⎢      ⎥\n",
       "⎢-154  ⎥\n",
       "⎢───── ⎥\n",
       "⎢  41  ⎥\n",
       "⎢      ⎥\n",
       "⎢-4767 ⎥\n",
       "⎢──────⎥\n",
       "⎣  41  ⎦"
      ]
     },
     "execution_count": 21,
     "metadata": {},
     "output_type": "execute_result"
    }
   ],
   "source": [
    "x.subs({'G1': 1, 'G2': 42, 'G3': 3, 'G4': 5, 'V1': 7, 'V2': 42})"
   ]
  },
  {
   "attachments": {
    "daemi.png": {
     "image/png": "[encoded data removed]"
    }
   },
   "cell_type": "markdown",
   "metadata": {},
   "source": [
    "# Dæmi\n",
    "\n",
    "Við viljum finna $i_2$ ef $V = 12 V, I_1 = 2mA, R_1 = 12k\\Omega, R_2 = 6k\\Omega, R_3 = 12k\\Omega, R_4 = 3k\\Omega, R_5 = 13k\\Omega$. Notum MNA og `sympy` til að leysa rásina.\n",
    "\n",
    "![Dæmi um einfalda rás](img/daemi.png)"
   ]
  },
  {
   "cell_type": "code",
   "execution_count": 17,
   "metadata": {},
   "outputs": [
    {
     "name": "stdout",
     "output_type": "stream",
     "text": [
      "i_2: 0.571428571428572 mA\n"
     ]
    }
   ],
   "source": [
    "# Hér skilgreinum við allar spennur, strauma og viðnám eða leiðni (e. conductance)\n",
    "V1, I1, G1, G2, G3, G4, G5 = symbols('V1 I1 G1 G2 G3 G4 G5')\n",
    "\n",
    "# Fyllum inn í MNA fylki með þremur KCL og einni KVL jöfnum\n",
    "A = Matrix([\n",
    "    [G1+G2, 0, 0, 1],\n",
    "    [0, G3+G4, -G4, -1],\n",
    "    [0, -G4, G4+G5, 0],\n",
    "    [1, -1, 0, 0],\n",
    "])\n",
    "\n",
    "b = Matrix([[0, 0, -I1, V1]]).T\n",
    "\n",
    "x = A.LUsolve(b)\n",
    "\n",
    "# Setjum inn töluleg gildi\n",
    "gildi = {V1: 12, I1: 2e-3, G1: 1 / 12e3, G2: 1 / 6e3, G3: 1 / 12e3, G4: 1 / 3e3, G5: 1 / 3e3}\n",
    "va, vb, vc, jv = x.subs(gildi)\n",
    "\n",
    "# Reiknum út strauminn\n",
    "i2 = (va - 0) * gildi[G2]\n",
    "\n",
    "print(f'i_2: {i2 * 1e3} mA')\n"
   ]
  }
 ],
 "metadata": {
  "kernelspec": {
   "display_name": "Python 3",
   "language": "python",
   "name": "python3"
  },
  "language_info": {
   "codemirror_mode": {
    "name": "ipython",
    "version": 3
   },
   "file_extension": ".py",
   "mimetype": "text/x-python",
   "name": "python",
   "nbconvert_exporter": "python",
   "pygments_lexer": "ipython3",
   "version": "3.8.2"
  }
 },
 "nbformat": 4,
 "nbformat_minor": 1
}